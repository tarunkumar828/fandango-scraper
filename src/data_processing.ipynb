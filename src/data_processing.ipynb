{
 "cells": [
  {
   "cell_type": "code",
   "execution_count": 26,
   "metadata": {},
   "outputs": [],
   "source": [
    "import pandas as pd\n"
   ]
  },
  {
   "cell_type": "code",
   "execution_count": 27,
   "metadata": {},
   "outputs": [],
   "source": [
    "df = pd.read_csv(\"../outputs/Coolie_seat_count.csv\")"
   ]
  },
  {
   "cell_type": "code",
   "execution_count": 28,
   "metadata": {},
   "outputs": [
    {
     "data": {
      "text/html": [
       "<div>\n",
       "<style scoped>\n",
       "    .dataframe tbody tr th:only-of-type {\n",
       "        vertical-align: middle;\n",
       "    }\n",
       "\n",
       "    .dataframe tbody tr th {\n",
       "        vertical-align: top;\n",
       "    }\n",
       "\n",
       "    .dataframe thead th {\n",
       "        text-align: right;\n",
       "    }\n",
       "</style>\n",
       "<table border=\"1\" class=\"dataframe\">\n",
       "  <thead>\n",
       "    <tr style=\"text-align: right;\">\n",
       "      <th></th>\n",
       "      <th>row_index</th>\n",
       "      <th>theater</th>\n",
       "      <th>location</th>\n",
       "      <th>date</th>\n",
       "      <th>time</th>\n",
       "      <th>url</th>\n",
       "      <th>reserved_count</th>\n",
       "      <th>available_count</th>\n",
       "      <th>reserved_seats</th>\n",
       "      <th>available_seats</th>\n",
       "    </tr>\n",
       "  </thead>\n",
       "  <tbody>\n",
       "    <tr>\n",
       "      <th>0</th>\n",
       "      <td>0</td>\n",
       "      <td>Harkins_Arizona_Mills_and_IMAX_Add_to_favorite...</td>\n",
       "      <td>5000_Arizona_Mills_Circle,_Tempe,_AZ_85282</td>\n",
       "      <td>unknown</td>\n",
       "      <td>5:30p</td>\n",
       "      <td>https://tickets.fandango.com/transaction/ticke...</td>\n",
       "      <td>41</td>\n",
       "      <td>104</td>\n",
       "      <td>[\"Seat: B2 - This seat is unavailable.\", \"Seat...</td>\n",
       "      <td>[\"Seat: A16 - This seat is available.\", \"Seat:...</td>\n",
       "    </tr>\n",
       "    <tr>\n",
       "      <th>1</th>\n",
       "      <td>0</td>\n",
       "      <td>Harkins_Arizona_Mills_and_IMAX_Add_to_favorite...</td>\n",
       "      <td>5000_Arizona_Mills_Circle,_Tempe,_AZ_85282</td>\n",
       "      <td>unknown</td>\n",
       "      <td>9:15p</td>\n",
       "      <td>https://tickets.fandango.com/transaction/ticke...</td>\n",
       "      <td>16</td>\n",
       "      <td>129</td>\n",
       "      <td>[\"Seat: B2 - This seat is unavailable.\", \"Seat...</td>\n",
       "      <td>[\"Seat: A16 - This seat is available.\", \"Seat:...</td>\n",
       "    </tr>\n",
       "    <tr>\n",
       "      <th>2</th>\n",
       "      <td>0</td>\n",
       "      <td>Harkins_Arizona_Mills_and_IMAX_Add_to_favorite...</td>\n",
       "      <td>5000_Arizona_Mills_Circle,_Tempe,_AZ_85282</td>\n",
       "      <td>unknown</td>\n",
       "      <td>5:30p</td>\n",
       "      <td>https://tickets.fandango.com/transaction/ticke...</td>\n",
       "      <td>46</td>\n",
       "      <td>165</td>\n",
       "      <td>[\"Seat: B1 - This seat is unavailable.\", \"Seat...</td>\n",
       "      <td>[\"Seat: A1 - This seat is available.\", \"Seat: ...</td>\n",
       "    </tr>\n",
       "    <tr>\n",
       "      <th>3</th>\n",
       "      <td>0</td>\n",
       "      <td>Harkins_Tempe_Marketplace_16_Add_to_favorite_t...</td>\n",
       "      <td>2000_E._Rio_Salado_Parkway,_Tempe,_AZ_85281</td>\n",
       "      <td>unknown</td>\n",
       "      <td>5:30p</td>\n",
       "      <td>https://tickets.fandango.com/transaction/ticke...</td>\n",
       "      <td>18</td>\n",
       "      <td>215</td>\n",
       "      <td>[\"Seat: D21 - This seat is unavailable.\", \"Sea...</td>\n",
       "      <td>[\"Seat: A1 - This seat is available.\", \"Seat: ...</td>\n",
       "    </tr>\n",
       "    <tr>\n",
       "      <th>4</th>\n",
       "      <td>0</td>\n",
       "      <td>Cinemark_Mesa_16_Add_to_favorite_theaters</td>\n",
       "      <td>1051_N._Dobson_Rd.,_Mesa,_AZ_85201</td>\n",
       "      <td>unknown</td>\n",
       "      <td>4:30p</td>\n",
       "      <td>https://tickets.fandango.com/transaction/ticke...</td>\n",
       "      <td>19</td>\n",
       "      <td>105</td>\n",
       "      <td>[\"Seat: F10 - This seat is unavailable.\", \"Sea...</td>\n",
       "      <td>[\"Seat: A16 - This seat is available.\", \"Seat:...</td>\n",
       "    </tr>\n",
       "  </tbody>\n",
       "</table>\n",
       "</div>"
      ],
      "text/plain": [
       "   row_index                                            theater  \\\n",
       "0          0  Harkins_Arizona_Mills_and_IMAX_Add_to_favorite...   \n",
       "1          0  Harkins_Arizona_Mills_and_IMAX_Add_to_favorite...   \n",
       "2          0  Harkins_Arizona_Mills_and_IMAX_Add_to_favorite...   \n",
       "3          0  Harkins_Tempe_Marketplace_16_Add_to_favorite_t...   \n",
       "4          0          Cinemark_Mesa_16_Add_to_favorite_theaters   \n",
       "\n",
       "                                      location     date   time  \\\n",
       "0   5000_Arizona_Mills_Circle,_Tempe,_AZ_85282  unknown  5:30p   \n",
       "1   5000_Arizona_Mills_Circle,_Tempe,_AZ_85282  unknown  9:15p   \n",
       "2   5000_Arizona_Mills_Circle,_Tempe,_AZ_85282  unknown  5:30p   \n",
       "3  2000_E._Rio_Salado_Parkway,_Tempe,_AZ_85281  unknown  5:30p   \n",
       "4           1051_N._Dobson_Rd.,_Mesa,_AZ_85201  unknown  4:30p   \n",
       "\n",
       "                                                 url  reserved_count  \\\n",
       "0  https://tickets.fandango.com/transaction/ticke...              41   \n",
       "1  https://tickets.fandango.com/transaction/ticke...              16   \n",
       "2  https://tickets.fandango.com/transaction/ticke...              46   \n",
       "3  https://tickets.fandango.com/transaction/ticke...              18   \n",
       "4  https://tickets.fandango.com/transaction/ticke...              19   \n",
       "\n",
       "   available_count                                     reserved_seats  \\\n",
       "0              104  [\"Seat: B2 - This seat is unavailable.\", \"Seat...   \n",
       "1              129  [\"Seat: B2 - This seat is unavailable.\", \"Seat...   \n",
       "2              165  [\"Seat: B1 - This seat is unavailable.\", \"Seat...   \n",
       "3              215  [\"Seat: D21 - This seat is unavailable.\", \"Sea...   \n",
       "4              105  [\"Seat: F10 - This seat is unavailable.\", \"Sea...   \n",
       "\n",
       "                                     available_seats  \n",
       "0  [\"Seat: A16 - This seat is available.\", \"Seat:...  \n",
       "1  [\"Seat: A16 - This seat is available.\", \"Seat:...  \n",
       "2  [\"Seat: A1 - This seat is available.\", \"Seat: ...  \n",
       "3  [\"Seat: A1 - This seat is available.\", \"Seat: ...  \n",
       "4  [\"Seat: A16 - This seat is available.\", \"Seat:...  "
      ]
     },
     "execution_count": 28,
     "metadata": {},
     "output_type": "execute_result"
    }
   ],
   "source": [
    "df.head()"
   ]
  },
  {
   "cell_type": "code",
   "execution_count": 29,
   "metadata": {},
   "outputs": [
    {
     "data": {
      "text/plain": [
       "((72, 10),\n",
       " Index(['row_index', 'theater', 'location', 'date', 'time', 'url',\n",
       "        'reserved_count', 'available_count', 'reserved_seats',\n",
       "        'available_seats'],\n",
       "       dtype='object'))"
      ]
     },
     "execution_count": 29,
     "metadata": {},
     "output_type": "execute_result"
    }
   ],
   "source": [
    "df.shape, df.columns"
   ]
  },
  {
   "cell_type": "code",
   "execution_count": 33,
   "metadata": {},
   "outputs": [],
   "source": [
    "unique_combinations = df.drop_duplicates(subset=[\"theater\", \"time\", \"location\"])\n",
    "unique_combinations_df = pd.DataFrame(unique_combinations)"
   ]
  },
  {
   "cell_type": "code",
   "execution_count": 34,
   "metadata": {},
   "outputs": [
    {
     "data": {
      "text/plain": [
       "(23, 10)"
      ]
     },
     "execution_count": 34,
     "metadata": {},
     "output_type": "execute_result"
    }
   ],
   "source": [
    "unique_combinations_df.shape"
   ]
  },
  {
   "cell_type": "code",
   "execution_count": null,
   "metadata": {},
   "outputs": [],
   "source": []
  }
 ],
 "metadata": {
  "kernelspec": {
   "display_name": "tfi",
   "language": "python",
   "name": "python3"
  },
  "language_info": {
   "codemirror_mode": {
    "name": "ipython",
    "version": 3
   },
   "file_extension": ".py",
   "mimetype": "text/x-python",
   "name": "python",
   "nbconvert_exporter": "python",
   "pygments_lexer": "ipython3",
   "version": "3.11.9"
  }
 },
 "nbformat": 4,
 "nbformat_minor": 2
}
